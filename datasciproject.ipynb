{
 "cells": [
  {
   "cell_type": "code",
   "execution_count": 1,
   "metadata": {},
   "outputs": [
    {
     "name": "stderr",
     "output_type": "stream",
     "text": [
      "/Users/asrith/Library/Python/3.9/lib/python/site-packages/urllib3/__init__.py:35: NotOpenSSLWarning: urllib3 v2 only supports OpenSSL 1.1.1+, currently the 'ssl' module is compiled with 'LibreSSL 2.8.3'. See: https://github.com/urllib3/urllib3/issues/3020\n",
      "  warnings.warn(\n"
     ]
    }
   ],
   "source": [
    "import yfinance as yf\n",
    "import pandas as pd\n",
    "from datetime import datetime, timedelta"
   ]
  },
  {
   "cell_type": "code",
   "execution_count": 3,
   "metadata": {},
   "outputs": [
    {
     "name": "stderr",
     "output_type": "stream",
     "text": [
      "[*********************100%***********************]  1 of 1 completed"
     ]
    },
    {
     "name": "stdout",
     "output_type": "stream",
     "text": [
      "Annualized Sharpe Ratios for each stock:\n",
      "NVDA: -1.234\n"
     ]
    },
    {
     "name": "stderr",
     "output_type": "stream",
     "text": [
      "\n",
      "/var/folders/jh/5qgf89253j945pw6bjvtshgr0000gn/T/ipykernel_88923/1614621955.py:18: FutureWarning: DataFrame.fillna with 'method' is deprecated and will raise in a future version. Use obj.ffill() or obj.bfill() instead.\n",
      "  df.fillna(method='ffill', inplace=True)  # Forward fill for NaN values\n"
     ]
    }
   ],
   "source": [
    "import yfinance as yf\n",
    "import pandas as pd\n",
    "from datetime import datetime, timedelta\n",
    "tickers_input = input(\"Enter the stock tickers in your portfolio, separated by commas (e.g., AAPL, MSFT, GOOGL): \")\n",
    "tickers = [ticker.strip().upper() for ticker in tickers_input.split(',')]\n",
    "end_date = \"2024-01-01\"\n",
    "start_date = \"2023-01-01\"\n",
    "\n",
    "\n",
    "data = {}\n",
    "for ticker in tickers:\n",
    "    stock_data = yf.download(ticker, start=start_date, end=end_date)\n",
    "    data[ticker] = stock_data['Adj Close']  \n",
    "\n",
    "df = pd.DataFrame(data)\n",
    "\n",
    "\n",
    "df.fillna(method='ffill', inplace=True)  # Forward fill for NaN values\n",
    "df.dropna(inplace=True)  # Drop remaining NaNs if any\n",
    "\n",
    "\n",
    "daily_returns = df.pct_change().dropna()\n",
    "\n",
    "\n",
    "risk_free_rate = .0431  #Can be adjusteed\n",
    "daily_returns = df.pct_change().dropna()\n",
    "\n",
    "trading_days = 252\n",
    "\n",
    "sharpe_ratios = {}\n",
    "for ticker in tickers:\n",
    "    avg_daily_return = daily_returns[ticker].mean()\n",
    "    std_dev_return = daily_returns[ticker].std()\n",
    "    \n",
    "    sharpe_ratio = ((avg_daily_return - risk_free_rate) / std_dev_return) \n",
    "    sharpe_ratios[ticker] = sharpe_ratio\n",
    "\n",
    "print(\"Annualized Sharpe Ratios for each stock:\")\n",
    "for ticker, ratio in sharpe_ratios.items():\n",
    "    print(f\"{ticker}: {ratio:.3f}\")"
   ]
  },
  {
   "cell_type": "code",
   "execution_count": 4,
   "metadata": {},
   "outputs": [
    {
     "data": {
      "text/html": [
       "<div>\n",
       "<style scoped>\n",
       "    .dataframe tbody tr th:only-of-type {\n",
       "        vertical-align: middle;\n",
       "    }\n",
       "\n",
       "    .dataframe tbody tr th {\n",
       "        vertical-align: top;\n",
       "    }\n",
       "\n",
       "    .dataframe thead th {\n",
       "        text-align: right;\n",
       "    }\n",
       "</style>\n",
       "<table border=\"1\" class=\"dataframe\">\n",
       "  <thead>\n",
       "    <tr style=\"text-align: right;\">\n",
       "      <th></th>\n",
       "      <th>AAPL</th>\n",
       "    </tr>\n",
       "    <tr>\n",
       "      <th>Date</th>\n",
       "      <th></th>\n",
       "    </tr>\n",
       "  </thead>\n",
       "  <tbody>\n",
       "    <tr>\n",
       "      <th>2023-11-07</th>\n",
       "      <td>180.894379</td>\n",
       "    </tr>\n",
       "    <tr>\n",
       "      <th>2023-11-08</th>\n",
       "      <td>181.958908</td>\n",
       "    </tr>\n",
       "    <tr>\n",
       "      <th>2023-11-09</th>\n",
       "      <td>181.481339</td>\n",
       "    </tr>\n",
       "    <tr>\n",
       "      <th>2023-11-10</th>\n",
       "      <td>185.695343</td>\n",
       "    </tr>\n",
       "    <tr>\n",
       "      <th>2023-11-13</th>\n",
       "      <td>184.101395</td>\n",
       "    </tr>\n",
       "    <tr>\n",
       "      <th>...</th>\n",
       "      <td>...</td>\n",
       "    </tr>\n",
       "    <tr>\n",
       "      <th>2024-10-30</th>\n",
       "      <td>230.100006</td>\n",
       "    </tr>\n",
       "    <tr>\n",
       "      <th>2024-10-31</th>\n",
       "      <td>225.910004</td>\n",
       "    </tr>\n",
       "    <tr>\n",
       "      <th>2024-11-01</th>\n",
       "      <td>222.910004</td>\n",
       "    </tr>\n",
       "    <tr>\n",
       "      <th>2024-11-04</th>\n",
       "      <td>222.009995</td>\n",
       "    </tr>\n",
       "    <tr>\n",
       "      <th>2024-11-05</th>\n",
       "      <td>223.449997</td>\n",
       "    </tr>\n",
       "  </tbody>\n",
       "</table>\n",
       "<p>251 rows × 1 columns</p>\n",
       "</div>"
      ],
      "text/plain": [
       "                  AAPL\n",
       "Date                  \n",
       "2023-11-07  180.894379\n",
       "2023-11-08  181.958908\n",
       "2023-11-09  181.481339\n",
       "2023-11-10  185.695343\n",
       "2023-11-13  184.101395\n",
       "...                ...\n",
       "2024-10-30  230.100006\n",
       "2024-10-31  225.910004\n",
       "2024-11-01  222.910004\n",
       "2024-11-04  222.009995\n",
       "2024-11-05  223.449997\n",
       "\n",
       "[251 rows x 1 columns]"
      ]
     },
     "execution_count": 4,
     "metadata": {},
     "output_type": "execute_result"
    }
   ],
   "source": []
  },
  {
   "cell_type": "code",
   "execution_count": null,
   "metadata": {},
   "outputs": [],
   "source": []
  }
 ],
 "metadata": {
  "kernelspec": {
   "display_name": "Python 3",
   "language": "python",
   "name": "python3"
  },
  "language_info": {
   "codemirror_mode": {
    "name": "ipython",
    "version": 3
   },
   "file_extension": ".py",
   "mimetype": "text/x-python",
   "name": "python",
   "nbconvert_exporter": "python",
   "pygments_lexer": "ipython3",
   "version": "3.9.6"
  }
 },
 "nbformat": 4,
 "nbformat_minor": 2
}
