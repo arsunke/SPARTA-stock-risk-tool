{
 "cells": [
  {
   "cell_type": "code",
   "execution_count": 49,
   "metadata": {},
   "outputs": [],
   "source": [
    "import yfinance as yf\n",
    "import pandas as pd\n",
    "from datetime import datetime, timedelta"
   ]
  },
  {
   "cell_type": "code",
   "execution_count": 51,
   "metadata": {},
   "outputs": [
    {
     "name": "stderr",
     "output_type": "stream",
     "text": [
      "[*********************100%***********************]  1 of 1 completed\n",
      "[*********************100%***********************]  1 of 1 completed\n",
      "[*********************100%***********************]  1 of 1 completed"
     ]
    },
    {
     "name": "stdout",
     "output_type": "stream",
     "text": [
      "Annualized Sharpe Ratios for each stock:\n",
      "BA: -0.494\n",
      "AAPL: 1.111\n",
      "CAT: 2.081\n"
     ]
    },
    {
     "name": "stderr",
     "output_type": "stream",
     "text": [
      "\n",
      "/var/folders/jh/5qgf89253j945pw6bjvtshgr0000gn/T/ipykernel_47608/428361281.py:18: FutureWarning: DataFrame.fillna with 'method' is deprecated and will raise in a future version. Use obj.ffill() or obj.bfill() instead.\n",
      "  df.fillna(method='ffill', inplace=True)  # Forward fill for NaN values\n"
     ]
    }
   ],
   "source": [
    "import yfinance as yf\n",
    "import pandas as pd\n",
    "from datetime import datetime, timedelta\n",
    "tickers_input = input(\"Enter the stock tickers in your portfolio, separated by commas (e.g., AAPL, MSFT, GOOGL): \")\n",
    "tickers = [ticker.strip().upper() for ticker in tickers_input.split(',')]\n",
    "end_date = datetime.now()\n",
    "start_date = end_date - timedelta(days=365)\n",
    "\n",
    "\n",
    "data = {}\n",
    "for ticker in tickers:\n",
    "    stock_data = yf.download(ticker, start=start_date, end=end_date)\n",
    "    data[ticker] = stock_data['Adj Close']  \n",
    "\n",
    "df = pd.DataFrame(data)\n",
    "\n",
    "\n",
    "df.fillna(method='ffill', inplace=True)  # Forward fill for NaN values\n",
    "df.dropna(inplace=True)  # Drop remaining NaNs if any\n",
    "\n",
    "\n",
    "daily_returns = df.pct_change().dropna()\n",
    "\n",
    "\n",
    "risk_free_rate = 0  #Can be adjusteed\n",
    "daily_returns = df.pct_change().dropna()\n",
    "\n",
    "trading_days = 252\n",
    "\n",
    "sharpe_ratios = {}\n",
    "for ticker in tickers:\n",
    "    avg_daily_return = daily_returns[ticker].mean()\n",
    "    std_dev_return = daily_returns[ticker].std()\n",
    "    \n",
    "    sharpe_ratio = ((avg_daily_return - risk_free_rate) / std_dev_return) * (trading_days ** 0.5)\n",
    "    sharpe_ratios[ticker] = sharpe_ratio\n",
    "\n",
    "print(\"Annualized Sharpe Ratios for each stock:\")\n",
    "for ticker, ratio in sharpe_ratios.items():\n",
    "    print(f\"{ticker}: {ratio:.3f}\")"
   ]
  },
  {
   "cell_type": "code",
   "execution_count": null,
   "metadata": {},
   "outputs": [],
   "source": []
  }
 ],
 "metadata": {
  "kernelspec": {
   "display_name": "Python 3",
   "language": "python",
   "name": "python3"
  },
  "language_info": {
   "codemirror_mode": {
    "name": "ipython",
    "version": 3
   },
   "file_extension": ".py",
   "mimetype": "text/x-python",
   "name": "python",
   "nbconvert_exporter": "python",
   "pygments_lexer": "ipython3",
   "version": "3.9.6"
  }
 },
 "nbformat": 4,
 "nbformat_minor": 2
}
