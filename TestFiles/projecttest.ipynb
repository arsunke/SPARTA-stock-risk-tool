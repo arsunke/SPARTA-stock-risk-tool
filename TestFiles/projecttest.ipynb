{
 "cells": [
  {
   "cell_type": "code",
   "execution_count": 1,
   "metadata": {},
   "outputs": [
    {
     "name": "stderr",
     "output_type": "stream",
     "text": [
      "/Users/asrith/Library/Python/3.9/lib/python/site-packages/urllib3/__init__.py:35: NotOpenSSLWarning: urllib3 v2 only supports OpenSSL 1.1.1+, currently the 'ssl' module is compiled with 'LibreSSL 2.8.3'. See: https://github.com/urllib3/urllib3/issues/3020\n",
      "  warnings.warn(\n",
      "[*********************100%***********************]  1 of 1 completed"
     ]
    },
    {
     "name": "stdout",
     "output_type": "stream",
     "text": [
      "Annualized Sharpe Ratio for AAPL from 2023-01-01 to 2024-01-01: 2.101\n"
     ]
    },
    {
     "name": "stderr",
     "output_type": "stream",
     "text": [
      "\n"
     ]
    }
   ],
   "source": [
    "import yfinance as yf\n",
    "import pandas as pd\n",
    "\n",
    "# Define parameters\n",
    "ticker = \"AAPL\"  # You can change this to any stock ticker\n",
    "start_date = \"2023-01-01\"\n",
    "end_date = \"2024-01-01\"\n",
    "risk_free_rate = 0.0431  # Annual risk-free rate (4.31%)\n",
    "\n",
    "# Download the stock data for the specified date range\n",
    "stock_data = yf.download(ticker, start=start_date, end=end_date)\n",
    "\n",
    "# Calculate daily returns\n",
    "daily_returns = stock_data['Adj Close'].pct_change().dropna()\n",
    "\n",
    "# Calculate average daily return and standard deviation of daily returns\n",
    "avg_daily_return = daily_returns.mean()\n",
    "std_dev_daily_return = daily_returns.std()\n",
    "\n",
    "# Calculate annualized metrics\n",
    "trading_days = 252  # Commonly used trading days in a year for annualization\n",
    "annualized_return = avg_daily_return * trading_days\n",
    "annualized_volatility = std_dev_daily_return * (trading_days ** 0.5)\n",
    "\n",
    "# Calculate the Sharpe Ratio\n",
    "sharpe_ratio = (annualized_return - risk_free_rate) / annualized_volatility\n",
    "\n",
    "print(f\"Annualized Sharpe Ratio for {ticker} from {start_date} to {end_date}: {sharpe_ratio:.3f}\")\n"
   ]
  },
  {
   "cell_type": "code",
   "execution_count": null,
   "metadata": {},
   "outputs": [],
   "source": []
  }
 ],
 "metadata": {
  "kernelspec": {
   "display_name": "Python 3",
   "language": "python",
   "name": "python3"
  },
  "language_info": {
   "codemirror_mode": {
    "name": "ipython",
    "version": 3
   },
   "file_extension": ".py",
   "mimetype": "text/x-python",
   "name": "python",
   "nbconvert_exporter": "python",
   "pygments_lexer": "ipython3",
   "version": "3.9.6"
  }
 },
 "nbformat": 4,
 "nbformat_minor": 2
}
